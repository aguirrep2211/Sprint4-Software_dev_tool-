{
 "cells": [
  {
   "cell_type": "code",
   "execution_count": null,
   "id": "4b94d53a",
   "metadata": {},
   "outputs": [],
   "source": [
    "\n",
    "import pandas as pd\n",
    "import plotly.express as px\n",
    "\n",
    "# Cargar datos\n",
    "df = pd.read_csv(\"../vehicles_us.csv\")\n",
    "\n",
    "# Histograma del precio\n",
    "fig_price_hist = px.histogram(df, x=\"price\", nbins=100, title=\"Distribución de Precios\")\n",
    "fig_price_hist.show()\n",
    "\n",
    "# Histograma del kilometraje\n",
    "fig_odometer_hist = px.histogram(df, x=\"odometer\", nbins=100, title=\"Distribución del Kilometraje\")\n",
    "fig_odometer_hist.show()\n",
    "\n",
    "# Scatterplot: precio vs año del modelo\n",
    "fig_price_model_year = px.scatter(df, x=\"model_year\", y=\"price\", title=\"Precio vs Año del Modelo\", opacity=0.5)\n",
    "fig_price_model_year.show()\n",
    "\n",
    "# Scatterplot: precio vs kilometraje\n",
    "fig_price_odometer = px.scatter(df, x=\"odometer\", y=\"price\", title=\"Precio vs Kilometraje\", opacity=0.5)\n",
    "fig_price_odometer.show()\n"
   ]
  }
 ],
 "metadata": {},
 "nbformat": 4,
 "nbformat_minor": 5
}
